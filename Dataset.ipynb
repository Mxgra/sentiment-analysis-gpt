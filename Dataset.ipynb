{
 "cells": [
  {
   "cell_type": "markdown",
   "id": "80a35ba5",
   "metadata": {},
   "source": [
    "# Data Exploration and Cleaning\n",
    "\n",
    "As the dataset is large and we're running on a tight budget, the first step is to analyse the data. Our goal is to find relevant artists, get an overview for the distribution of songs relative to distinct artits and gaining new insights. Furthermore it's imortant to clean the lyrics and remove all non-relevant artifacts, as headlines or adlibs.\n",
    "\n",
    "### Contents\n",
    "- Exploration\n",
    "- Cleaning"
   ]
  },
  {
   "cell_type": "code",
   "execution_count": 392,
   "id": "9d2c9a5c",
   "metadata": {},
   "outputs": [],
   "source": [
    "import os # needed?\n",
    "import numpy as np # needed?\n",
    "import matplotlib.pyplot as plt\n",
    "import pandas as pd\n",
    "\n",
    "import re\n",
    "import time as time"
   ]
  },
  {
   "cell_type": "markdown",
   "id": "785f5df8",
   "metadata": {},
   "source": [
    "## Exploration\n",
    "### Data Loading\n",
    "\n",
    "As the dataset is initially rather larger (9GB), we'll divide it up into chunks, thus reducing workload.\n",
    "We're only interested in german rap, so we'll be dropping all rows which fail on these conditions."
   ]
  },
  {
   "cell_type": "code",
   "execution_count": 14,
   "id": "53a12a06",
   "metadata": {},
   "outputs": [
    {
     "name": "stdout",
     "output_type": "stream",
     "text": [
      "title                                                    Killa Cam\n",
      "tag                                                            rap\n",
      "artist                                                     Cam'ron\n",
      "year                                                          2004\n",
      "views                                                       173166\n",
      "features                               {\"Cam\\\\'ron\",\"Opera Steve\"}\n",
      "lyrics           [Chorus: Opera Steve & Cam'ron]\\nKilla Cam, Ki...\n",
      "id                                                               1\n",
      "language_cld3                                                   en\n",
      "language_ft                                                     en\n",
      "language                                                        en\n",
      "Name: 0, dtype: object\n"
     ]
    }
   ],
   "source": [
    "# A first quick test...\n",
    "for chunk in pd.read_csv('song_lyrics.csv', chunksize=1000):\n",
    "    for index, row in chunk.iterrows():\n",
    "        print(row)\n",
    "        break\n",
    "    break"
   ]
  },
  {
   "cell_type": "code",
   "execution_count": null,
   "id": "b0b2d9f5",
   "metadata": {},
   "outputs": [],
   "source": [
    "chunk_count = 0\n",
    "header = True\n",
    "start = time.time()\n",
    "\n",
    "for chunk in pd.read_csv('song_lyrics.csv', chunksize=100000):\n",
    "    chunk.drop(chunk[(chunk.tag != 'rap') | (chunk.language!='de')].index, axis=0, inplace=True)\n",
    "\n",
    "    if not chunk.empty:\n",
    "        # We're only interested it some columns, ignoring the rest.\n",
    "        chunk.to_csv('raps_de.csv', header=header,index=False, columns=['title','artist', 'year','views','lyrics', 'language'], mode='a')\n",
    "        header = False\n",
    "        print('Chunk {} contained german rap!'.format(chunk_count))\n",
    "        \n",
    "    chunk_count += 1\n",
    "\n",
    "end = time.time()\n",
    "print(\"Went through a total of {} chunks\".format(chunk_count))\n",
    "print(\"This took {} seconds\".format(int(end-start)))"
   ]
  },
  {
   "cell_type": "markdown",
   "id": "1b0af647",
   "metadata": {},
   "source": [
    "From now on, we'll be working with just german rap songs."
   ]
  },
  {
   "cell_type": "code",
   "execution_count": 308,
   "id": "6ff25ce5",
   "metadata": {},
   "outputs": [
    {
     "data": {
      "text/html": [
       "<div>\n",
       "<style scoped>\n",
       "    .dataframe tbody tr th:only-of-type {\n",
       "        vertical-align: middle;\n",
       "    }\n",
       "\n",
       "    .dataframe tbody tr th {\n",
       "        vertical-align: top;\n",
       "    }\n",
       "\n",
       "    .dataframe thead th {\n",
       "        text-align: right;\n",
       "    }\n",
       "</style>\n",
       "<table border=\"1\" class=\"dataframe\">\n",
       "  <thead>\n",
       "    <tr style=\"text-align: right;\">\n",
       "      <th></th>\n",
       "      <th>title</th>\n",
       "      <th>artist</th>\n",
       "      <th>year</th>\n",
       "      <th>views</th>\n",
       "      <th>lyrics</th>\n",
       "      <th>language</th>\n",
       "    </tr>\n",
       "  </thead>\n",
       "  <tbody>\n",
       "    <tr>\n",
       "      <th>0</th>\n",
       "      <td>Keine Zeit</td>\n",
       "      <td>Blumentopf</td>\n",
       "      <td>2006</td>\n",
       "      <td>112</td>\n",
       "      <td>Roger:\\nIch stell mich diesmal nicht an! Ne, N...</td>\n",
       "      <td>de</td>\n",
       "    </tr>\n",
       "    <tr>\n",
       "      <th>1</th>\n",
       "      <td>8073</td>\n",
       "      <td>Austria's Finest</td>\n",
       "      <td>2010</td>\n",
       "      <td>416</td>\n",
       "      <td>Austrias FinesT - 8073\\n\\nVerse I:\\n8073 (Boom...</td>\n",
       "      <td>de</td>\n",
       "    </tr>\n",
       "    <tr>\n",
       "      <th>2</th>\n",
       "      <td>Ego</td>\n",
       "      <td>Samy Deluxe</td>\n",
       "      <td>2011</td>\n",
       "      <td>15472</td>\n",
       "      <td>[Intro]\\nYeah, Dynamite, Johnny\\nMachen die Sc...</td>\n",
       "      <td>de</td>\n",
       "    </tr>\n",
       "    <tr>\n",
       "      <th>3</th>\n",
       "      <td>Stenz Music</td>\n",
       "      <td>Eko Fresh</td>\n",
       "      <td>2005</td>\n",
       "      <td>881</td>\n",
       "      <td>[Verse I: Hakan Abi]\\nDas ist Hakan Abi, ich l...</td>\n",
       "      <td>de</td>\n",
       "    </tr>\n",
       "    <tr>\n",
       "      <th>4</th>\n",
       "      <td>Strassen Musik</td>\n",
       "      <td>Samy Deluxe</td>\n",
       "      <td>2011</td>\n",
       "      <td>3958</td>\n",
       "      <td>[Intro]\\nOh, late at night when I was asleep\\n...</td>\n",
       "      <td>de</td>\n",
       "    </tr>\n",
       "  </tbody>\n",
       "</table>\n",
       "</div>"
      ],
      "text/plain": [
       "            title            artist  year  views  \\\n",
       "0      Keine Zeit        Blumentopf  2006    112   \n",
       "1            8073  Austria's Finest  2010    416   \n",
       "2             Ego       Samy Deluxe  2011  15472   \n",
       "3     Stenz Music         Eko Fresh  2005    881   \n",
       "4  Strassen Musik       Samy Deluxe  2011   3958   \n",
       "\n",
       "                                              lyrics language  \n",
       "0  Roger:\\nIch stell mich diesmal nicht an! Ne, N...       de  \n",
       "1  Austrias FinesT - 8073\\n\\nVerse I:\\n8073 (Boom...       de  \n",
       "2  [Intro]\\nYeah, Dynamite, Johnny\\nMachen die Sc...       de  \n",
       "3  [Verse I: Hakan Abi]\\nDas ist Hakan Abi, ich l...       de  \n",
       "4  [Intro]\\nOh, late at night when I was asleep\\n...       de  "
      ]
     },
     "execution_count": 308,
     "metadata": {},
     "output_type": "execute_result"
    }
   ],
   "source": [
    "raps_de =  pd.read_csv('raps_de.csv')\n",
    "raps_de.head()"
   ]
  },
  {
   "cell_type": "markdown",
   "id": "fb7a0ddd",
   "metadata": {},
   "source": [
    "We'll be manipulating the data, dropping rows and cleaning lyrics, as such it's good to keep an overview how some properties of the data change.\n",
    "\n",
    "Following function will be helpfull for this purpose."
   ]
  },
  {
   "cell_type": "code",
   "execution_count": 391,
   "id": "f3bff62b",
   "metadata": {},
   "outputs": [
    {
     "name": "stdout",
     "output_type": "stream",
     "text": [
      "Total number of rows:  36264\n",
      "Average length of rap:  2218\n",
      "20111.246 K tokens\n",
      "With 0.002/1K tokens if we take gpt-3.5-turbo model that makes  40  dollars\n"
     ]
    }
   ],
   "source": [
    "def data_props(df):\n",
    "\n",
    "    number_of_rows = 0\n",
    "    total_song_length = 0\n",
    "    for idx, row in df.iterrows():\n",
    "        number_of_rows += 1\n",
    "        total_song_length += len(row.lyrics)\n",
    "\n",
    "    avg_len = int(total_song_length/number_of_rows)\n",
    "    print(\"Total number of rows: \", number_of_rows)\n",
    "    print(\"Average length of rap: \", avg_len)\n",
    "\n",
    "    # one token is aprox. 4 chars so:\n",
    "    number_of_tokens = int(total_song_length/4)\n",
    "    print(number_of_tokens/1000, \"K tokens\")\n",
    "    print(\"With 0.002/1K tokens if we take gpt-3.5-turbo model that makes \", int(number_of_tokens/1000*0.002), \" dollars\")\n",
    "\n",
    "data_props(raps_de)"
   ]
  },
  {
   "cell_type": "markdown",
   "id": "0d27d7dc",
   "metadata": {},
   "source": [
    "Lets take a first look into the distribution of songs and artists."
   ]
  },
  {
   "cell_type": "code",
   "execution_count": null,
   "id": "70546cde",
   "metadata": {},
   "outputs": [],
   "source": [
    "for idx, row in raps_de['artist'].value_counts().items():\n",
    "    print(idx,row)"
   ]
  },
  {
   "cell_type": "code",
   "execution_count": 309,
   "id": "aaae4503",
   "metadata": {},
   "outputs": [
    {
     "data": {
      "text/plain": [
       "Money Boy                  652\n",
       "Kollegah                   538\n",
       "Eko Fresh                  488\n",
       "Fler                       429\n",
       "Bushido                    405\n",
       "                          ... \n",
       "MC Alkatraz                  1\n",
       "Fisto                        1\n",
       "To?                          1\n",
       "Sido & Johannes Oerding      1\n",
       "Endi & Ilias                 1\n",
       "Name: artist, Length: 13863, dtype: int64"
      ]
     },
     "execution_count": 309,
     "metadata": {},
     "output_type": "execute_result"
    }
   ],
   "source": [
    "# Dont care about english songs with german translations...\n",
    "# Drop Übersetzungen\n",
    "raps_de.drop(raps_de[raps_de['artist']=='Genius Deutsche bersetzungen'].index, inplace=True)\n",
    "raps_de['artist'].value_counts()"
   ]
  },
  {
   "cell_type": "markdown",
   "id": "3e1a89a6",
   "metadata": {},
   "source": [
    "It's actually really surprising that Money Boy has the highest output. Quick sanity check if everything is ok..."
   ]
  },
  {
   "cell_type": "code",
   "execution_count": 195,
   "id": "5128a1a4",
   "metadata": {},
   "outputs": [
    {
     "data": {
      "text/plain": [
       "Dreh den Swag auf              1\n",
       "Intro Swagger Rap              1\n",
       "Try me                         1\n",
       "We Made It Remix               1\n",
       "Die Trap Ist Am Durchdrehen    1\n",
       "                              ..\n",
       "Shots Fired                    1\n",
       "Elevator                       1\n",
       "Körperbau Utopisch             1\n",
       "Ein Stück vom Kuchen           1\n",
       "Churros                        1\n",
       "Name: title, Length: 652, dtype: int64"
      ]
     },
     "execution_count": 195,
     "metadata": {},
     "output_type": "execute_result"
    }
   ],
   "source": [
    "raps_de[raps_de['artist']=='Money Boy']['title'].value_counts()"
   ]
  },
  {
   "cell_type": "markdown",
   "id": "4c52575e",
   "metadata": {},
   "source": [
    "Seems so! As it would be indeed interesting to look at artists with such a high output seperatly, we're interested in the broad landscape of german rap. This means we don't need all of the songs. Also our budget constraints how many tokens we can use, so we have the reduce the size of our dataset."
   ]
  },
  {
   "cell_type": "code",
   "execution_count": 341,
   "id": "29564ac8",
   "metadata": {},
   "outputs": [],
   "source": [
    "# We dont need more than N songs per artist\n",
    "\n",
    "N = 20\n",
    "\n",
    "for artist, song_n in raps_de['artist'].value_counts().items():\n",
    "    #print(artist)\n",
    "    if song_n > N:\n",
    "        sample_size = song_n-N\n",
    "        # Randomly drop songs for thespecific artist until we reach the desired amount of songs.\n",
    "        # It would ofcourse be nice to choose one song of each album, sadly we dont have this information, so random it is.\n",
    "        raps_de.drop(raps_de[raps_de['artist'] == artist].sample(sample_size, random_state=42).index, inplace=True)\n"
   ]
  },
  {
   "cell_type": "code",
   "execution_count": 311,
   "id": "61c0aa85",
   "metadata": {},
   "outputs": [
    {
     "name": "stdout",
     "output_type": "stream",
     "text": [
      "Total number of rows:  71132\n",
      "Average length of rap:  2307\n",
      "41025.516 K tokens\n",
      "With 0.0005/1K tokens if we take babbage model that makes  20  dollars\n"
     ]
    }
   ],
   "source": [
    "# We again look at the tokens of the new dataset:\n",
    "data_props(raps_de)"
   ]
  },
  {
   "cell_type": "markdown",
   "id": "2f636f14",
   "metadata": {},
   "source": [
    "We're not down much, to my surprise there seems to be alot of artists who only have few songs listed on Genius. Let's look into this..."
   ]
  },
  {
   "cell_type": "code",
   "execution_count": 317,
   "id": "69660d7e",
   "metadata": {},
   "outputs": [
    {
     "name": "stdout",
     "output_type": "stream",
     "text": [
      "4489  artists made under 20 songs\n",
      "The average number of tokens we get for artists with under 20 songs are 10252K tokens \n",
      "941  artists made over or equal to 20 songs\n",
      "The average number of tokens we get for artists with above 20 songs are 20855K tokens\n",
      "There are 4 times more artists with under 20 songs\n",
      "And they account for 0 times more tokens\n"
     ]
    },
    {
     "data": {
      "text/plain": [
       "{'Number of songs of artists under': 17444,\n",
       " 'Number of artists under': 4489,\n",
       " 'Number of songs of artists above': 35485,\n",
       " 'Number of artists above': 941}"
      ]
     },
     "execution_count": 317,
     "metadata": {},
     "output_type": "execute_result"
    }
   ],
   "source": [
    "def count_artists_and_songs(df, N, verbose=True):\n",
    "\n",
    "    n_songs_artist_under = 0\n",
    "    n_artists_under = 0\n",
    "    n_songs_artist_above = 0\n",
    "    n_artists_above = 0\n",
    "\n",
    "    for artist, song_n in df['artist'].value_counts().items():\n",
    "        if song_n < N:\n",
    "            n_artists_under += 1\n",
    "            n_songs_artist_under += song_n\n",
    "        else:\n",
    "            n_artists_above += 1\n",
    "            n_songs_artist_above += song_n\n",
    "            #print(artist)\n",
    "\n",
    "    if verbose:\n",
    "        print(n_artists_under, \" artists made under {} songs\".format(N))\n",
    "        print(\"The average number of tokens we get for artists with under {} songs are {}K tokens \".format(N, int(n_songs_artist_under*avg_len/4000)))\n",
    "        print(n_artists_above, \" artists made over or equal to {} songs\".format(N))\n",
    "        print(\"The average number of tokens we get for artists with above {} songs are {}K tokens\".format(N, int(n_songs_artist_above*avg_len/4000)))\n",
    "        if n_artists_above != 0:\n",
    "            print(\"There are {} times more artists with under {} songs\".format(int(n_artists_under/n_artists_above), N))\n",
    "            print(\"And they account for {} times more tokens\".format(int(n_songs_artist_under/n_songs_artist_above)))\n",
    "        else:\n",
    "            print(\"Obviously no artist has less than one song\")\n",
    "    \n",
    "    return {\"Number of songs of artists under\" :n_songs_artist_under, \"Number of artists under\": n_artists_under, \n",
    "            \"Number of songs of artists above\" :n_songs_artist_above, \"Number of artists above\": n_artists_above}\n",
    "\n",
    "count_artists_and_songs(raps_de, 20)"
   ]
  },
  {
   "cell_type": "code",
   "execution_count": 256,
   "id": "aebc9efe",
   "metadata": {},
   "outputs": [
    {
     "data": {
      "image/png": "[encoded data removed]",
      "text/plain": [
       "<Figure size 1500x300 with 2 Axes>"
      ]
     },
     "metadata": {},
     "output_type": "display_data"
    }
   ],
   "source": [
    "res_artists = {}\n",
    "res_songs = {}\n",
    "\n",
    "for i in range(10,50):\n",
    "    res = count_artists_and_songs(i, verbose=False)\n",
    "    res_artists[i] = res[\"Number of artists under\"]\n",
    "    res_songs[i] = res[\"Number of songs of artists under\"]\n",
    "    #res_songs[i] = int(res[\"Number of songs of artists under\"]*avg_len/4000) # This is then per 1K tokens!\n",
    "\n",
    "fig, axes = plt.subplots(nrows=1, ncols=2, figsize=(15, 3))\n",
    "\n",
    "axes[0].plot(res_artists.keys(), res_artists.values())#, tick_label=list(res_artists.keys()))\n",
    "axes[1].plot(res_songs.keys(), res_songs.values())#, tick_label=list(res_songs.keys()))\n",
    "plt.show()"
   ]
  },
  {
   "cell_type": "code",
   "execution_count": 700,
   "id": "43397ccd",
   "metadata": {
    "scrolled": true
   },
   "outputs": [
    {
     "name": "stdout",
     "output_type": "stream",
     "text": [
      "941 artists have 20 songs\n",
      "60 artists have 19 songs\n",
      "56 artists have 18 songs\n",
      "62 artists have 17 songs\n",
      "59 artists have 16 songs\n",
      "53 artists have 15 songs\n",
      "97 artists have 14 songs\n",
      "93 artists have 13 songs\n",
      "112 artists have 12 songs\n",
      "125 artists have 11 songs\n",
      "55 artists have 10 songs\n",
      "47 artists have 9 songs\n",
      "45 artists have 8 songs\n",
      "63 artists have 7 songs\n",
      "94 artists have 6 songs\n",
      "86 artists have 5 songs\n",
      "124 artists have 4 songs\n",
      "169 artists have 3 songs\n",
      "357 artists have 2 songs\n",
      "2732 artists have 1 songs\n"
     ]
    }
   ],
   "source": [
    "artist_songs_count = raps_de.artist.value_counts().to_dict()\n",
    "# dict of: number of songs: list of artists with that number of songs\n",
    "song_n_artist_list = {i: [artist for artist, val in artist_songs_count.items() if val==i] for i in artist_songs_count.values()}\n",
    "for song_n, artist_list in song_n_artist_list.items():\n",
    "    print(\"{} artists have {} songs\".format(len(artist_list), song_n))\n"
   ]
  },
  {
   "cell_type": "code",
   "execution_count": 271,
   "id": "ad943ead",
   "metadata": {},
   "outputs": [],
   "source": [
    "song_n_total_len = {song_n: 0 for song_n in song_n_artist_list.keys()}\n",
    "\"\"\"\n",
    "for song_n, number_of_songs in res_songs.items():\n",
    "    for artist in song_n_artist_list[song_n]:\n",
    "        song_n_total_len[song_n] += raps_de.at\n",
    "    break\"\"\"\n",
    "    #ToDo: for every artists in range 10,51: add length of songs, divide by number of artists with that song number, \n",
    "    # in order to get average length of songs relative to number of songs released.\n",
    "for idx, row in raps_de.iterrows():\n",
    "    for song_n, artist_list in song_n_artist_list.items():\n",
    "        if row.artist in artist_list:\n",
    "            song_n_total_len[song_n] += len(row.lyrics)"
   ]
  },
  {
   "cell_type": "code",
   "execution_count": 272,
   "id": "88e8c96e",
   "metadata": {
    "scrolled": true
   },
   "outputs": [
    {
     "data": {
      "text/plain": [
       "{50: 42419649,\n",
       " 49: 1771933,\n",
       " 48: 1125540,\n",
       " 47: 693873,\n",
       " 46: 603161,\n",
       " 45: 985203,\n",
       " 44: 977288,\n",
       " 43: 1695286,\n",
       " 42: 1546771,\n",
       " 41: 1071683,\n",
       " 40: 1202037,\n",
       " 39: 544983,\n",
       " 38: 1068583,\n",
       " 37: 1294628,\n",
       " 36: 1056586,\n",
       " 35: 1035444,\n",
       " 34: 1553801,\n",
       " 33: 1197080,\n",
       " 32: 1065572,\n",
       " 31: 1078671,\n",
       " 30: 1463799,\n",
       " 29: 2114758,\n",
       " 28: 1504501,\n",
       " 27: 1420412,\n",
       " 26: 1743876,\n",
       " 25: 1985702,\n",
       " 24: 1979424,\n",
       " 23: 1459013,\n",
       " 22: 2078725,\n",
       " 21: 2180952,\n",
       " 20: 2031147,\n",
       " 19: 2598163,\n",
       " 18: 2474202,\n",
       " 17: 2534015,\n",
       " 16: 2359562,\n",
       " 15: 1945002,\n",
       " 14: 3076728,\n",
       " 13: 2933650,\n",
       " 12: 2994289,\n",
       " 11: 2992467,\n",
       " 10: 3159190,\n",
       " 9: 2853744,\n",
       " 8: 3277468,\n",
       " 7: 3638636,\n",
       " 6: 4300263,\n",
       " 5: 4176883,\n",
       " 4: 4513947,\n",
       " 3: 5501215,\n",
       " 2: 7525359,\n",
       " 1: 17297203}"
      ]
     },
     "execution_count": 272,
     "metadata": {},
     "output_type": "execute_result"
    }
   ],
   "source": [
    "song_n_total_len"
   ]
  },
  {
   "cell_type": "code",
   "execution_count": 286,
   "id": "a2425234",
   "metadata": {
    "scrolled": true
   },
   "outputs": [
    {
     "data": {
      "text/plain": [
       "{50: 2389,\n",
       " 49: 2410,\n",
       " 48: 2344,\n",
       " 47: 2460,\n",
       " 46: 2185,\n",
       " 45: 2432,\n",
       " 44: 2221,\n",
       " 43: 2319,\n",
       " 42: 2455,\n",
       " 41: 2376,\n",
       " 40: 2311,\n",
       " 39: 2328,\n",
       " 38: 2163,\n",
       " 37: 2499,\n",
       " 36: 2257,\n",
       " 35: 2465,\n",
       " 34: 2405,\n",
       " 33: 2418,\n",
       " 32: 2219,\n",
       " 31: 2174,\n",
       " 30: 2323,\n",
       " 29: 2278,\n",
       " 28: 2558,\n",
       " 27: 2287,\n",
       " 26: 2484,\n",
       " 25: 2336,\n",
       " 24: 2229,\n",
       " 23: 2349,\n",
       " 22: 2304,\n",
       " 21: 2360,\n",
       " 20: 2308,\n",
       " 19: 2279,\n",
       " 18: 2454,\n",
       " 17: 2404,\n",
       " 16: 2499,\n",
       " 15: 2446,\n",
       " 14: 2265,\n",
       " 13: 2426,\n",
       " 12: 2227,\n",
       " 11: 2176,\n",
       " 10: 2240,\n",
       " 9: 2201,\n",
       " 8: 2226,\n",
       " 7: 2174,\n",
       " 6: 2198,\n",
       " 5: 2131,\n",
       " 4: 2199,\n",
       " 3: 2241,\n",
       " 2: 2214,\n",
       " 1: 2232}"
      ]
     },
     "execution_count": 286,
     "metadata": {},
     "output_type": "execute_result"
    }
   ],
   "source": [
    "song_n_avg_len = {}\n",
    "\n",
    "for song_n, total_len in song_n_total_len.items():\n",
    "    song_n_avg_len[song_n] = int(total_len/(song_n*len(song_n_artist_list[song_n])))\n",
    "song_n_avg_len"
   ]
  },
  {
   "cell_type": "markdown",
   "id": "75f83606",
   "metadata": {},
   "source": [
    "As we see, regardless of song output, song length is on average the same."
   ]
  },
  {
   "cell_type": "markdown",
   "id": "09ea0a37",
   "metadata": {},
   "source": [
    "Let's look into colaborations of artists, which are named with the convention: \"Artist A & Artist B\""
   ]
  },
  {
   "cell_type": "code",
   "execution_count": 312,
   "id": "5dbb12de",
   "metadata": {},
   "outputs": [
    {
     "name": "stdout",
     "output_type": "stream",
     "text": [
      "Number of colabs:  3343\n"
     ]
    }
   ],
   "source": [
    "n_of_colabs = 0\n",
    "list_of_colabs = []\n",
    "for artist, song_n in raps_de.artist.value_counts().items():\n",
    "    if '&' in artist:\n",
    "        n_of_colabs += 1\n",
    "        list_of_colabs.append(artist)\n",
    "        #print(artist, song_n)\n",
    "        \n",
    "print(\"Number of colabs: \", n_of_colabs)"
   ]
  },
  {
   "cell_type": "code",
   "execution_count": 289,
   "id": "52ef5d76",
   "metadata": {},
   "outputs": [],
   "source": [
    "# We need the artists by itself, without the colab naming convention:\n",
    "complete_colabs = []\n",
    "for colabs in list_of_colabs:\n",
    "    complete_colabs.append(colabs.split(' & '))\n",
    "complete_colabs = [item for sublist in complete_colabs for item in sublist]"
   ]
  },
  {
   "cell_type": "code",
   "execution_count": 175,
   "id": "5157fbc0",
   "metadata": {},
   "outputs": [],
   "source": [
    "artists_song_number_dict = raps_de.artist.value_counts().to_dict() # didn't we do this already above? CONST would be nice"
   ]
  },
  {
   "cell_type": "code",
   "execution_count": 166,
   "id": "6e94372a",
   "metadata": {},
   "outputs": [
    {
     "data": {
      "text/plain": [
       "['abc']"
      ]
     },
     "execution_count": 166,
     "metadata": {},
     "output_type": "execute_result"
    }
   ],
   "source": []
  },
  {
   "cell_type": "code",
   "execution_count": 321,
   "id": "b5c5c7dd",
   "metadata": {},
   "outputs": [
    {
     "name": "stdout",
     "output_type": "stream",
     "text": [
      "8433\n"
     ]
    }
   ],
   "source": [
    "# Or we could drop all below 10 songs unless they appear as features\n",
    "n_artists_under_10_no_colabs = 0\n",
    "\n",
    "# colabs are not longer in complete_colabs, because of naming \"abc & xyz\" !!!\n",
    "for artists, song_n in artists_song_number_dict.items():\n",
    "    for artist in artists.split(' & '):\n",
    "        if song_n <= 10 and artist not in complete_colabs:\n",
    "            n_artists_under_10_no_colabs += 1\n",
    "            raps_de.drop(raps_de[raps_de.artist==artist].index, inplace=True)\n",
    "    \n",
    "print(n_artists_under_10_no_colabs)\n",
    "\n",
    "\n"
   ]
  },
  {
   "cell_type": "code",
   "execution_count": 314,
   "id": "dc404be5",
   "metadata": {},
   "outputs": [
    {
     "name": "stdout",
     "output_type": "stream",
     "text": [
      "Total number of rows:  52929\n",
      "Average length of rap:  2363\n",
      "31279.852 K tokens\n",
      "With 0.0005/1K tokens if we take babbage model that makes  15  dollars\n"
     ]
    }
   ],
   "source": [
    "data_props(raps_de) # with 50 songs max\n"
   ]
  },
  {
   "cell_type": "code",
   "execution_count": 342,
   "id": "47efe28d",
   "metadata": {},
   "outputs": [
    {
     "name": "stdout",
     "output_type": "stream",
     "text": [
      "Total number of rows:  36264\n",
      "Average length of rap:  2362\n",
      "21417.178 K tokens\n",
      "With 0.0005/1K tokens if we take babbage model that makes  10  dollars\n"
     ]
    }
   ],
   "source": [
    "data_props(raps_de) # with 20 songs max (delete again later)"
   ]
  },
  {
   "cell_type": "code",
   "execution_count": 315,
   "id": "614a41d5",
   "metadata": {},
   "outputs": [
    {
     "name": "stdout",
     "output_type": "stream",
     "text": [
      "3717  artists made under 10 songs\n",
      "The average number of tokens we get for artists with under 10 songs are 3918K tokens \n",
      "1713  artists made over or equal to 10 songs\n",
      "The average number of tokens we get for artists with above 10 songs are 27188K tokens\n",
      "There are 2 times more artists with under 10 songs\n",
      "And they account for 0 times more tokens\n"
     ]
    },
    {
     "data": {
      "text/plain": [
       "{'Number of songs of artists under': 6667,\n",
       " 'Number of artists under': 3717,\n",
       " 'Number of songs of artists above': 46262,\n",
       " 'Number of artists above': 1713}"
      ]
     },
     "execution_count": 315,
     "metadata": {},
     "output_type": "execute_result"
    }
   ],
   "source": [
    "count_artists_and_songs(raps_de, 10) # with 50 songs max"
   ]
  },
  {
   "cell_type": "code",
   "execution_count": 345,
   "id": "ea816e62",
   "metadata": {},
   "outputs": [
    {
     "name": "stdout",
     "output_type": "stream",
     "text": [
      "4009  artists made under 13 songs\n",
      "The average number of tokens we get for artists with under 13 songs are 5839K tokens \n",
      "1421  artists made over or equal to 13 songs\n",
      "The average number of tokens we get for artists with above 13 songs are 15473K tokens\n",
      "There are 2 times more artists with under 13 songs\n",
      "And they account for 0 times more tokens\n"
     ]
    },
    {
     "data": {
      "text/plain": [
       "{'Number of songs of artists under': 9936,\n",
       " 'Number of artists under': 4009,\n",
       " 'Number of songs of artists above': 26328,\n",
       " 'Number of artists above': 1421}"
      ]
     },
     "execution_count": 345,
     "metadata": {},
     "output_type": "execute_result"
    }
   ],
   "source": [
    "count_artists_and_songs(raps_de, 13) # with 20 songs max (delete again later)"
   ]
  },
  {
   "cell_type": "code",
   "execution_count": 331,
   "id": "2020f158",
   "metadata": {
    "scrolled": true
   },
   "outputs": [],
   "source": [
    "raps_de_min_4_songs = raps_de.copy()\n",
    "for artists, song_n in artists_song_number_dict.items():\n",
    "        if song_n <= 10:\n",
    "            raps_de_min_4_songs.drop(raps_de_min_4_songs[raps_de_min_4_songs.artist==artists].index, inplace=True)\n"
   ]
  },
  {
   "cell_type": "code",
   "execution_count": 332,
   "id": "c609606a",
   "metadata": {},
   "outputs": [
    {
     "name": "stdout",
     "output_type": "stream",
     "text": [
      "Total number of rows:  45712\n",
      "Average length of rap:  2359\n",
      "26964.539 K tokens\n",
      "With 0.0005/1K tokens if we take babbage model that makes  13  dollars\n"
     ]
    }
   ],
   "source": [
    "data_props(raps_de_min_4_songs)"
   ]
  },
  {
   "cell_type": "code",
   "execution_count": 335,
   "id": "454c130b",
   "metadata": {},
   "outputs": [
    {
     "name": "stdout",
     "output_type": "stream",
     "text": [
      "427  artists made under 15 songs\n",
      "The average number of tokens we get for artists with under 15 songs are 3106K tokens \n",
      "1231  artists made over or equal to 15 songs\n",
      "The average number of tokens we get for artists with above 15 songs are 23758K tokens\n",
      "There are 0 times more artists with under 15 songs\n",
      "And they account for 0 times more tokens\n"
     ]
    },
    {
     "data": {
      "text/plain": [
       "{'Number of songs of artists under': 5286,\n",
       " 'Number of artists under': 427,\n",
       " 'Number of songs of artists above': 40426,\n",
       " 'Number of artists above': 1231}"
      ]
     },
     "execution_count": 335,
     "metadata": {},
     "output_type": "execute_result"
    }
   ],
   "source": [
    "\n",
    "count_artists_and_songs(raps_de_min_4_songs, 15)"
   ]
  },
  {
   "cell_type": "markdown",
   "id": "406c0ef0",
   "metadata": {},
   "source": [
    "## Cleaning the Lyrics"
   ]
  },
  {
   "cell_type": "code",
   "execution_count": 354,
   "id": "653cd928",
   "metadata": {},
   "outputs": [
    {
     "data": {
      "text/plain": [
       "3.0730931758880615"
      ]
     },
     "execution_count": 354,
     "metadata": {},
     "output_type": "execute_result"
    }
   ],
   "source": [
    "# Cleaning the lyrics\n",
    "import re\n",
    "import time\n",
    "\n",
    "start = time.time()\n",
    "for idx, row in raps_de.iterrows():\n",
    "    raps_de.at[idx, 'lyrics'] = re.sub(\"[\\(\\[].*?[\\)\\]]\", \"\", row.lyrics)\n",
    "    #print(row.lyrics)\n",
    "    #break\n",
    "    \n",
    "end = time.time()\n",
    "end-start"
   ]
  },
  {
   "cell_type": "code",
   "execution_count": 355,
   "id": "58ee7b9a",
   "metadata": {},
   "outputs": [
    {
     "data": {
      "text/html": [
       "<div>\n",
       "<style scoped>\n",
       "    .dataframe tbody tr th:only-of-type {\n",
       "        vertical-align: middle;\n",
       "    }\n",
       "\n",
       "    .dataframe tbody tr th {\n",
       "        vertical-align: top;\n",
       "    }\n",
       "\n",
       "    .dataframe thead th {\n",
       "        text-align: right;\n",
       "    }\n",
       "</style>\n",
       "<table border=\"1\" class=\"dataframe\">\n",
       "  <thead>\n",
       "    <tr style=\"text-align: right;\">\n",
       "      <th></th>\n",
       "      <th>title</th>\n",
       "      <th>artist</th>\n",
       "      <th>year</th>\n",
       "      <th>views</th>\n",
       "      <th>lyrics</th>\n",
       "      <th>language</th>\n",
       "    </tr>\n",
       "  </thead>\n",
       "  <tbody>\n",
       "    <tr>\n",
       "      <th>17</th>\n",
       "      <td>All 4 One</td>\n",
       "      <td>Kool Savas &amp; Azad</td>\n",
       "      <td>2005</td>\n",
       "      <td>24969</td>\n",
       "      <td>\\nEs ist Zeit, dass sich einiges ändert hier\\n...</td>\n",
       "      <td>de</td>\n",
       "    </tr>\n",
       "    <tr>\n",
       "      <th>34</th>\n",
       "      <td>Herbstzeitblätter</td>\n",
       "      <td>K.I.Z</td>\n",
       "      <td>2007</td>\n",
       "      <td>20716</td>\n",
       "      <td>\\nSind Herbstzeitblätter nur so traurig weil s...</td>\n",
       "      <td>de</td>\n",
       "    </tr>\n",
       "    <tr>\n",
       "      <th>35</th>\n",
       "      <td>Neuruppin</td>\n",
       "      <td>K.I.Z</td>\n",
       "      <td>2007</td>\n",
       "      <td>127191</td>\n",
       "      <td>\\nSpinnenmann!\\nIch creepe durch die Nachbarsc...</td>\n",
       "      <td>de</td>\n",
       "    </tr>\n",
       "    <tr>\n",
       "      <th>51</th>\n",
       "      <td>Danke Gut</td>\n",
       "      <td>Eins Zwo</td>\n",
       "      <td>1999</td>\n",
       "      <td>7688</td>\n",
       "      <td>Ja gut\\n'N abend zusammen!\\n\\n\\nEs geht mir gu...</td>\n",
       "      <td>de</td>\n",
       "    </tr>\n",
       "    <tr>\n",
       "      <th>77</th>\n",
       "      <td>Hammerhart</td>\n",
       "      <td>Beginner</td>\n",
       "      <td>1998</td>\n",
       "      <td>20823</td>\n",
       "      <td>\\nOh, na, na\\nBambule - Yes, yo\\nDies ist Hamb...</td>\n",
       "      <td>de</td>\n",
       "    </tr>\n",
       "  </tbody>\n",
       "</table>\n",
       "</div>"
      ],
      "text/plain": [
       "                title             artist  year   views  \\\n",
       "17          All 4 One  Kool Savas & Azad  2005   24969   \n",
       "34  Herbstzeitblätter              K.I.Z  2007   20716   \n",
       "35          Neuruppin              K.I.Z  2007  127191   \n",
       "51          Danke Gut           Eins Zwo  1999    7688   \n",
       "77         Hammerhart           Beginner  1998   20823   \n",
       "\n",
       "                                               lyrics language  \n",
       "17  \\nEs ist Zeit, dass sich einiges ändert hier\\n...       de  \n",
       "34  \\nSind Herbstzeitblätter nur so traurig weil s...       de  \n",
       "35  \\nSpinnenmann!\\nIch creepe durch die Nachbarsc...       de  \n",
       "51  Ja gut\\n'N abend zusammen!\\n\\n\\nEs geht mir gu...       de  \n",
       "77  \\nOh, na, na\\nBambule - Yes, yo\\nDies ist Hamb...       de  "
      ]
     },
     "execution_count": 355,
     "metadata": {},
     "output_type": "execute_result"
    }
   ],
   "source": [
    "raps_de.head()"
   ]
  },
  {
   "cell_type": "code",
   "execution_count": 701,
   "id": "18cabb7c",
   "metadata": {},
   "outputs": [
    {
     "name": "stdout",
     "output_type": "stream",
     "text": [
      "Total number of rows:  36264\n",
      "Average length of rap:  2218\n",
      "20111.246 K tokens\n",
      "With 0.002/1K tokens if we take gpt-3.5-turbo model that makes  40  dollars\n"
     ]
    }
   ],
   "source": [
    "# We again look at the tokens of the new dataset:\n",
    "data_props(raps_de)"
   ]
  },
  {
   "cell_type": "markdown",
   "id": "9d6058cd",
   "metadata": {},
   "source": [
    "### Reducing Size and finding relevant Artists\n",
    "\n",
    "So, it seems we need to \"handpick\" a set of artists in order to effectively reduce our dataset size and feed it into gpt.\n",
    "\n",
    "I played around a little bit and tried cutting down the dataset to a size around 5-8 dollars. But, doing that on my own would probably result in a biased dataset, which I do not want. So I choose to take another route, grabbing a list of artists from spotify! We use the spotipy api, but notice that the spotify api is a little clunky and only returns 50-100 artists at a time. We'll be looping through the last 20 years and see how many artists we actually get. Thencheck how many of them are in our dataset and hopefully we receive a size that's representative, but small enough to walk with."
   ]
  },
  {
   "cell_type": "markdown",
   "id": "5e9f308e",
   "metadata": {},
   "source": [
    "## Getting the list from Spotify"
   ]
  },
  {
   "cell_type": "code",
   "execution_count": 705,
   "id": "0b339f94",
   "metadata": {},
   "outputs": [],
   "source": [
    "with open('spotify_secrets.txt', 'r') as f:\n",
    "    text = f.readlines()\n",
    "    SPOTIPY_CLIENT_ID = text[0].strip('\\n')\n",
    "    SPOTIPY_CLIENT_SECRET = text[1].strip('\\n')\n",
    "\n",
    "#print(SPOTIPY_CLIENT_ID)\n",
    "#print(SPOTIPY_CLIENT_SECRET)"
   ]
  },
  {
   "cell_type": "code",
   "execution_count": 480,
   "id": "0fd6aba4",
   "metadata": {},
   "outputs": [],
   "source": [
    "import spotipy\n",
    "from spotipy.oauth2 import SpotifyClientCredentials"
   ]
  },
  {
   "cell_type": "code",
   "execution_count": 622,
   "id": "73bc0e43",
   "metadata": {
    "collapsed": true
   },
   "outputs": [
    {
     "name": "stdout",
     "output_type": "stream",
     "text": [
      "https://api.spotify.com/v1/search?query=2000-2010%2520genre%3ADeutschrap&type=artist&market=DE&offset=100&limit=50\n",
      "1000\n",
      "100\n",
      "0\n"
     ]
    },
    {
     "ename": "IndexError",
     "evalue": "list index out of range",
     "output_type": "error",
     "traceback": [
      "\u001b[0;31m---------------------------------------------------------------------------\u001b[0m",
      "\u001b[0;31mIndexError\u001b[0m                                Traceback (most recent call last)",
      "Cell \u001b[0;32mIn[622], line 9\u001b[0m\n\u001b[1;32m      7\u001b[0m \u001b[38;5;28mprint\u001b[39m(results[\u001b[38;5;124m'\u001b[39m\u001b[38;5;124martists\u001b[39m\u001b[38;5;124m'\u001b[39m][\u001b[38;5;124m'\u001b[39m\u001b[38;5;124moffset\u001b[39m\u001b[38;5;124m'\u001b[39m])\n\u001b[1;32m      8\u001b[0m \u001b[38;5;28mprint\u001b[39m(\u001b[38;5;28mlen\u001b[39m(results[\u001b[38;5;124m'\u001b[39m\u001b[38;5;124martists\u001b[39m\u001b[38;5;124m'\u001b[39m][\u001b[38;5;124m'\u001b[39m\u001b[38;5;124mitems\u001b[39m\u001b[38;5;124m'\u001b[39m]))\n\u001b[0;32m----> 9\u001b[0m \u001b[38;5;28mprint\u001b[39m(\u001b[43mresults\u001b[49m\u001b[43m[\u001b[49m\u001b[38;5;124;43m'\u001b[39;49m\u001b[38;5;124;43martists\u001b[39;49m\u001b[38;5;124;43m'\u001b[39;49m\u001b[43m]\u001b[49m\u001b[43m[\u001b[49m\u001b[38;5;124;43m'\u001b[39;49m\u001b[38;5;124;43mitems\u001b[39;49m\u001b[38;5;124;43m'\u001b[39;49m\u001b[43m]\u001b[49m\u001b[43m[\u001b[49m\u001b[38;5;241;43m0\u001b[39;49m\u001b[43m]\u001b[49m)\n",
      "\u001b[0;31mIndexError\u001b[0m: list index out of range"
     ]
    }
   ],
   "source": [
    "# testing spotipy\n",
    "\n",
    "birdy_uri = 'spotify:artist:2WX2uTcsvV5OnS0inACecP'\n",
    "spotify = spotipy.Spotify(client_credentials_manager=SpotifyClientCredentials(client_id=SPOTIPY_CLIENT_ID, client_secret=SPOTIPY_CLIENT_SECRET))\n",
    "\n",
    "results = spotify.search(q='2000-2010%20genre:Deutschrap', limit=50, type='artist', market='DE', offset=100)\n",
    "print(results['artists']['href'])\n",
    "print(results['artists']['total'])\n",
    "print(results['artists']['offset'])\n",
    "print(len(results['artists']['items']))\n",
    "print(results['artists']['items'][0])"
   ]
  },
  {
   "cell_type": "code",
   "execution_count": 663,
   "id": "7952ac79",
   "metadata": {},
   "outputs": [],
   "source": [
    "test_list_aaa = []"
   ]
  },
  {
   "cell_type": "code",
   "execution_count": 662,
   "id": "5dc43cff",
   "metadata": {},
   "outputs": [
    {
     "name": "stdout",
     "output_type": "stream",
     "text": [
      "1989 - 1991\n",
      "1991 - 1993\n",
      "1993 - 1995\n",
      "1995 - 1997\n",
      "1997 - 1999\n",
      "1999 - 2001\n",
      "2001 - 2003\n",
      "2003 - 2005\n",
      "2005 - 2007\n",
      "2007 - 2009\n",
      "2009 - 2011\n",
      "2011 - 2013\n",
      "2013 - 2015\n",
      "2015 - 2017\n",
      "2017 - 2019\n",
      "2019 - 2021\n",
      "2021 - 2023\n"
     ]
    }
   ],
   "source": [
    "start = 1989\n",
    "for i in range(17):\n",
    "    \n",
    "    end = start+2\n",
    "    print(start, \"-\", end)\n",
    "    start = end"
   ]
  },
  {
   "cell_type": "code",
   "execution_count": null,
   "id": "d88dd5f2",
   "metadata": {
    "scrolled": true
   },
   "outputs": [],
   "source": [
    "\n",
    "start = 1989\n",
    "for i in range(17):\n",
    "    \n",
    "    end = start+2\n",
    "    print(start, \"-\", end)\n",
    "    \n",
    "    for i in range(0, 200, 50):\n",
    "        results = spotify.search(q=str(start)+'-'+str(end)+'%20genre:Deutschrap',limit=50, type='artist', market='DE', offset=i)\n",
    "        print(\"offset=\", i)\n",
    "        print(results['artists']['href'])\n",
    "        for item in results['artists']['items']:\n",
    "            print(item['popularity'], end=' ')\n",
    "            #if item['popularity'] > 50:\n",
    "            print(item['name'], item['popularity'])\n",
    "            test_list_aaa.append(item['name'])\n",
    "    start = end"
   ]
  },
  {
   "cell_type": "code",
   "execution_count": 668,
   "id": "63c314c9",
   "metadata": {},
   "outputs": [
    {
     "name": "stdout",
     "output_type": "stream",
     "text": [
      "3400\n",
      "357\n"
     ]
    }
   ],
   "source": [
    "print(len(test_list_aaa))\n",
    "set_of_artists = set(test_list_aaa)\n",
    "print(len(set_of_artists))"
   ]
  },
  {
   "cell_type": "code",
   "execution_count": 681,
   "id": "886f5ac6",
   "metadata": {},
   "outputs": [
    {
     "name": "stdout",
     "output_type": "stream",
     "text": [
      "Of 357 artists there are 213 in our dataset\n"
     ]
    }
   ],
   "source": [
    "is_in_count = 0\n",
    "for it in set_of_artists:\n",
    "    if it in raps_de.artist.value_counts().keys():\n",
    "        is_in_count += 1\n",
    "print(\"Of {} artists there are {} in our dataset\".format(len(set_of_artists), is_in_count))"
   ]
  },
  {
   "cell_type": "code",
   "execution_count": 682,
   "id": "5ffd0bbb",
   "metadata": {},
   "outputs": [
    {
     "name": "stdout",
     "output_type": "stream",
     "text": [
      "213\n"
     ]
    }
   ],
   "source": [
    "final_artists = []\n",
    "for it in set_of_artists:\n",
    "    if it in raps_de.artist.value_counts().keys():\n",
    "        final_artists.append(it)\n",
    "print(len(final_artists))"
   ]
  },
  {
   "cell_type": "code",
   "execution_count": 683,
   "id": "240d3e14",
   "metadata": {},
   "outputs": [],
   "source": [
    "second_raps_de = raps_de.copy()"
   ]
  },
  {
   "cell_type": "code",
   "execution_count": 684,
   "id": "e9096558",
   "metadata": {},
   "outputs": [],
   "source": [
    "for artists, song_n in second_raps_de['artist'].value_counts().items():\n",
    "    if not artists in final_artists:\n",
    "        second_raps_de.drop(second_raps_de[second_raps_de.artist==artists].index, inplace=True)"
   ]
  },
  {
   "cell_type": "code",
   "execution_count": 710,
   "id": "c01eb3cb",
   "metadata": {},
   "outputs": [
    {
     "data": {
      "text/plain": [
       "Beginner       20\n",
       "negatiiv OG    20\n",
       "JAZN           20\n",
       "GENT           20\n",
       "Curse          20\n",
       "               ..\n",
       "Rill            2\n",
       "Addikt102       2\n",
       "ELIF            2\n",
       "DXVE            1\n",
       "Maikel          1\n",
       "Name: artist, Length: 213, dtype: int64"
      ]
     },
     "execution_count": 710,
     "metadata": {},
     "output_type": "execute_result"
    }
   ],
   "source": [
    "second_raps_de['artist'].value_counts()"
   ]
  },
  {
   "cell_type": "code",
   "execution_count": 686,
   "id": "5b91a423",
   "metadata": {},
   "outputs": [
    {
     "name": "stdout",
     "output_type": "stream",
     "text": [
      "Total number of rows:  3641\n",
      "Average length of rap:  2212\n",
      "2014.046 K tokens\n",
      "With 0.002/1K tokens if we take gpt-3.5-turbo model that makes  4  dollars\n"
     ]
    }
   ],
   "source": [
    "data_props(second_raps_de)"
   ]
  },
  {
   "cell_type": "code",
   "execution_count": 694,
   "id": "f8028fbb",
   "metadata": {},
   "outputs": [
    {
     "name": "stdout",
     "output_type": "stream",
     "text": [
      "59  artists made under 20 songs\n",
      "The average number of tokens we get for artists with under 20 songs are 329K tokens \n",
      "154  artists made over or equal to 20 songs\n",
      "The average number of tokens we get for artists with above 20 songs are 1810K tokens\n",
      "There are 0 times more artists with under 20 songs\n",
      "And they account for 0 times more tokens\n"
     ]
    },
    {
     "data": {
      "text/plain": [
       "{'Number of songs of artists under': 561,\n",
       " 'Number of artists under': 59,\n",
       " 'Number of songs of artists above': 3080,\n",
       " 'Number of artists above': 154}"
      ]
     },
     "execution_count": 694,
     "metadata": {},
     "output_type": "execute_result"
    }
   ],
   "source": [
    "count_artists_and_songs(second_raps_de, 20)"
   ]
  },
  {
   "cell_type": "code",
   "execution_count": 696,
   "id": "d51130af",
   "metadata": {},
   "outputs": [],
   "source": [
    "second_raps_de.to_csv('second_raps_de.csv', index=False)"
   ]
  },
  {
   "cell_type": "code",
   "execution_count": 698,
   "id": "778a9b02",
   "metadata": {},
   "outputs": [
    {
     "data": {
      "text/html": [
       "<div>\n",
       "<style scoped>\n",
       "    .dataframe tbody tr th:only-of-type {\n",
       "        vertical-align: middle;\n",
       "    }\n",
       "\n",
       "    .dataframe tbody tr th {\n",
       "        vertical-align: top;\n",
       "    }\n",
       "\n",
       "    .dataframe thead th {\n",
       "        text-align: right;\n",
       "    }\n",
       "</style>\n",
       "<table border=\"1\" class=\"dataframe\">\n",
       "  <thead>\n",
       "    <tr style=\"text-align: right;\">\n",
       "      <th></th>\n",
       "      <th>title</th>\n",
       "      <th>artist</th>\n",
       "      <th>year</th>\n",
       "      <th>views</th>\n",
       "      <th>lyrics</th>\n",
       "      <th>language</th>\n",
       "    </tr>\n",
       "  </thead>\n",
       "  <tbody>\n",
       "    <tr>\n",
       "      <th>0</th>\n",
       "      <td>Hammerhart</td>\n",
       "      <td>Beginner</td>\n",
       "      <td>1998</td>\n",
       "      <td>20823</td>\n",
       "      <td>\\nOh, na, na\\nBambule - Yes, yo\\nDies ist Hamb...</td>\n",
       "      <td>de</td>\n",
       "    </tr>\n",
       "    <tr>\n",
       "      <th>1</th>\n",
       "      <td>Und Was Ist Jetzt?</td>\n",
       "      <td>Curse</td>\n",
       "      <td>2003</td>\n",
       "      <td>9420</td>\n",
       "      <td>\\nIch hör' dich jetzt noch wie gestern die Wor...</td>\n",
       "      <td>de</td>\n",
       "    </tr>\n",
       "    <tr>\n",
       "      <th>2</th>\n",
       "      <td>Zur Erinnerung</td>\n",
       "      <td>Ferris MC</td>\n",
       "      <td>2003</td>\n",
       "      <td>4701</td>\n",
       "      <td>\\nWir lernten uns beide kennen, als wir ins gl...</td>\n",
       "      <td>de</td>\n",
       "    </tr>\n",
       "    <tr>\n",
       "      <th>3</th>\n",
       "      <td>Popstarz</td>\n",
       "      <td>Ferris MC</td>\n",
       "      <td>2003</td>\n",
       "      <td>474</td>\n",
       "      <td>Kurzes Intro:\\n\\nYeah Ferris MC und ich hasse ...</td>\n",
       "      <td>de</td>\n",
       "    </tr>\n",
       "    <tr>\n",
       "      <th>4</th>\n",
       "      <td>Pyramide</td>\n",
       "      <td>Favorite</td>\n",
       "      <td>2011</td>\n",
       "      <td>8648</td>\n",
       "      <td>\\nYeah, yeah, yeah, was geht ab?!\\nFavorite 20...</td>\n",
       "      <td>de</td>\n",
       "    </tr>\n",
       "    <tr>\n",
       "      <th>...</th>\n",
       "      <td>...</td>\n",
       "      <td>...</td>\n",
       "      <td>...</td>\n",
       "      <td>...</td>\n",
       "      <td>...</td>\n",
       "      <td>...</td>\n",
       "    </tr>\n",
       "    <tr>\n",
       "      <th>3636</th>\n",
       "      <td>Habaneros</td>\n",
       "      <td>TIEFBASSKOMMANDO</td>\n",
       "      <td>2022</td>\n",
       "      <td>10</td>\n",
       "      <td>\\nIch hab' ein Colt in meiner Hose, der ist sc...</td>\n",
       "      <td>de</td>\n",
       "    </tr>\n",
       "    <tr>\n",
       "      <th>3637</th>\n",
       "      <td>Ein Fall für sich</td>\n",
       "      <td>Manuellsen</td>\n",
       "      <td>2022</td>\n",
       "      <td>87</td>\n",
       "      <td>\\n\\n\\nLak, shu, diese Zeil'n!\\n\\n\\nIch bin ein...</td>\n",
       "      <td>de</td>\n",
       "    </tr>\n",
       "    <tr>\n",
       "      <th>3638</th>\n",
       "      <td>Northern Lights</td>\n",
       "      <td>Samo104</td>\n",
       "      <td>2022</td>\n",
       "      <td>7</td>\n",
       "      <td>\\n\\n\\n\\n\\n\\nAll eyes on her, ja \\nLiebe dein S...</td>\n",
       "      <td>de</td>\n",
       "    </tr>\n",
       "    <tr>\n",
       "      <th>3639</th>\n",
       "      <td>Kein Auge zu</td>\n",
       "      <td>Samo104</td>\n",
       "      <td>2022</td>\n",
       "      <td>32</td>\n",
       "      <td>\\n\\n\\nIch mach' schon wieder kein Auge zu\\nWei...</td>\n",
       "      <td>de</td>\n",
       "    </tr>\n",
       "    <tr>\n",
       "      <th>3640</th>\n",
       "      <td>Sicher</td>\n",
       "      <td>Ansu</td>\n",
       "      <td>2022</td>\n",
       "      <td>21</td>\n",
       "      <td>\\n\\n\\nYeah, ich hab' das, was irgend so 'n Joc...</td>\n",
       "      <td>de</td>\n",
       "    </tr>\n",
       "  </tbody>\n",
       "</table>\n",
       "<p>3641 rows × 6 columns</p>\n",
       "</div>"
      ],
      "text/plain": [
       "                   title            artist  year  views  \\\n",
       "0             Hammerhart          Beginner  1998  20823   \n",
       "1     Und Was Ist Jetzt?             Curse  2003   9420   \n",
       "2         Zur Erinnerung         Ferris MC  2003   4701   \n",
       "3               Popstarz         Ferris MC  2003    474   \n",
       "4               Pyramide          Favorite  2011   8648   \n",
       "...                  ...               ...   ...    ...   \n",
       "3636           Habaneros  TIEFBASSKOMMANDO  2022     10   \n",
       "3637   Ein Fall für sich        Manuellsen  2022     87   \n",
       "3638     Northern Lights           Samo104  2022      7   \n",
       "3639        Kein Auge zu           Samo104  2022     32   \n",
       "3640              Sicher              Ansu  2022     21   \n",
       "\n",
       "                                                 lyrics language  \n",
       "0     \\nOh, na, na\\nBambule - Yes, yo\\nDies ist Hamb...       de  \n",
       "1     \\nIch hör' dich jetzt noch wie gestern die Wor...       de  \n",
       "2     \\nWir lernten uns beide kennen, als wir ins gl...       de  \n",
       "3     Kurzes Intro:\\n\\nYeah Ferris MC und ich hasse ...       de  \n",
       "4     \\nYeah, yeah, yeah, was geht ab?!\\nFavorite 20...       de  \n",
       "...                                                 ...      ...  \n",
       "3636  \\nIch hab' ein Colt in meiner Hose, der ist sc...       de  \n",
       "3637  \\n\\n\\nLak, shu, diese Zeil'n!\\n\\n\\nIch bin ein...       de  \n",
       "3638  \\n\\n\\n\\n\\n\\nAll eyes on her, ja \\nLiebe dein S...       de  \n",
       "3639  \\n\\n\\nIch mach' schon wieder kein Auge zu\\nWei...       de  \n",
       "3640  \\n\\n\\nYeah, ich hab' das, was irgend so 'n Joc...       de  \n",
       "\n",
       "[3641 rows x 6 columns]"
      ]
     },
     "execution_count": 698,
     "metadata": {},
     "output_type": "execute_result"
    }
   ],
   "source": [
    "test_aba = pd.read_csv('second_raps_de.csv')\n",
    "test_aba"
   ]
  },
  {
   "cell_type": "markdown",
   "id": "eff2aa08",
   "metadata": {},
   "source": [
    "Finally, we've shrunken our dataset down to a reasonable size, containing all the biggest (and also some quite underground) german rappers! Expected cost of putting this data into gpt-3.5-turbo: 4 dollar! Thats great, as it offers us some room for errors while working with the models."
   ]
  },
  {
   "cell_type": "code",
   "execution_count": null,
   "id": "82d524a9",
   "metadata": {},
   "outputs": [],
   "source": []
  }
 ],
 "metadata": {
  "kernelspec": {
   "display_name": "gpt3",
   "language": "python",
   "name": "gpt3"
  },
  "language_info": {
   "codemirror_mode": {
    "name": "ipython",
    "version": 3
   },
   "file_extension": ".py",
   "mimetype": "text/x-python",
   "name": "python",
   "nbconvert_exporter": "python",
   "pygments_lexer": "ipython3",
   "version": "3.9.16"
  }
 },
 "nbformat": 4,
 "nbformat_minor": 5
}
